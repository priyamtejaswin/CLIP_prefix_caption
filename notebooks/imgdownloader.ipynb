{
 "cells": [
  {
   "cell_type": "markdown",
   "metadata": {},
   "source": [
    "# Image Downloading Code"
   ]
  },
  {
   "cell_type": "code",
   "execution_count": null,
   "metadata": {},
   "outputs": [],
   "source": [
    "import json\n",
    "from tqdm import tqdm\n",
    "import os\n",
    "import requests\n",
    "import skimage.io as io\n",
    "import PIL.Image\n",
    "import time"
   ]
  },
  {
   "cell_type": "code",
   "execution_count": null,
   "metadata": {},
   "outputs": [],
   "source": [
    "with open('/usr0/home/ptejaswi/Download/TextVQA_0.5.1_train.json') as fp:\n",
    "    train = json.loads(fp.read())\n",
    "    \n",
    "print(train.keys())"
   ]
  },
  {
   "cell_type": "code",
   "execution_count": null,
   "metadata": {},
   "outputs": [],
   "source": [
    "def download_image(url, imid, extension):\n",
    "    # Path is fixed!\n",
    "    if extension == '':\n",
    "        print(\"No extension found!\", url, imid, extension)\n",
    "        extension = 'jpg'\n",
    "        \n",
    "    savepath = os.path.join('/usr0/home/ptejaswi/Download/tvqa_images', imid+'.'+extension)\n",
    "    \n",
    "    img_data = requests.get(url).content\n",
    "    with open(savepath, 'wb') as handler:\n",
    "        handler.write(img_data)\n",
    "    \n",
    "    try:\n",
    "        image = io.imread(savepath)\n",
    "        pil_image = PIL.Image.fromarray(image)\n",
    "    except ValueError:\n",
    "        os.remove(savepath)\n",
    "        return False\n",
    "    \n",
    "    return True"
   ]
  },
  {
   "cell_type": "code",
   "execution_count": null,
   "metadata": {},
   "outputs": [],
   "source": [
    "failed = 0\n",
    "dev_qs = []\n",
    "available = set([f.split('.')[0] for f in os.listdir('/usr0/home/ptejaswi/Download/tvqa_images/') if f.endswith('.png') or f.endswith('.jpg') or f.endswith('.jpeg')])\n",
    "for x in tqdm(train['data']):\n",
    "    imid = x['image_id']\n",
    "    if imid not in available:\n",
    "        time.sleep(1)\n",
    "        url = x['flickr_original_url']\n",
    "        if download_image(url, x['image_id'], url.split('.')[-1]) is False:\n",
    "            # Try again.\n",
    "            url = x['flickr_300k_url']\n",
    "            if download_image(url, x['image_id'], url.split('.')[-1]) is False:\n",
    "                failed += 1\n",
    "                \n",
    "print(\"Failed:\", failed)"
   ]
  }
 ],
 "metadata": {
  "kernelspec": {
   "display_name": "clip_prefix_caption",
   "language": "python",
   "name": "clip_prefix_caption"
  },
  "language_info": {
   "codemirror_mode": {
    "name": "ipython",
    "version": 3
   },
   "file_extension": ".py",
   "mimetype": "text/x-python",
   "name": "python",
   "nbconvert_exporter": "python",
   "pygments_lexer": "ipython3",
   "version": "3.9.12"
  }
 },
 "nbformat": 4,
 "nbformat_minor": 4
}
